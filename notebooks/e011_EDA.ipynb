{
 "cells": [
  {
   "cell_type": "markdown",
   "metadata": {},
   "source": [
    "## e011 EDA\n",
    " * startified_k_fold の妥当性調査"
   ]
  },
  {
   "cell_type": "code",
   "execution_count": 1,
   "metadata": {},
   "outputs": [],
   "source": [
    "import pandas as pd\n",
    "import numpy as np\n",
    "import gc\n",
    "import pickle\n",
    "import pyarrow.parquet as pq\n",
    "from multiprocessing import Pool\n",
    "from tqdm import tqdm_notebook as tqdm\n",
    "\n",
    "import scipy\n",
    "from scipy import signal\n",
    "from scipy.signal import butter\n",
    "\n",
    "from matplotlib import pyplot as plt\n",
    "import seaborn as sns\n",
    "\n",
    "import sys\n",
    "sys.path.append('../../guchio_utils/')"
   ]
  },
  {
   "cell_type": "code",
   "execution_count": 2,
   "metadata": {},
   "outputs": [
    {
     "data": {
      "text/html": [
       "<style>.container { width:95% !important; }</style>"
      ],
      "text/plain": [
       "<IPython.core.display.HTML object>"
      ]
     },
     "metadata": {},
     "output_type": "display_data"
    }
   ],
   "source": [
    "#plt.rcParams['font.family'] = 'IPAPGothic' #全体のフォントを設定\n",
    "from IPython.core.display import display, HTML\n",
    "display(HTML(\"<style>.container { width:95% !important; }</style>\"))\n",
    "# %config InlineBackend.figure_formats = {'png', 'retina'}\n",
    "%load_ext autoreload\n",
    "%autoreload 1"
   ]
  },
  {
   "cell_type": "markdown",
   "metadata": {},
   "source": [
    "### OOF analysis"
   ]
  },
  {
   "cell_type": "code",
   "execution_count": 2,
   "metadata": {},
   "outputs": [],
   "source": [
    "#trn_df = pd.read_parquet('../inputs/origin/train.parquet.zip', compression='zip')\n",
    "trn_df = pq.read_pandas('../inputs/origin/train.parquet').to_pandas()\n",
    "trn_meta_df = pd.read_csv('../inputs/origin/metadata_train.csv')"
   ]
  },
  {
   "cell_type": "code",
   "execution_count": 3,
   "metadata": {},
   "outputs": [],
   "source": [
    "with open('../oofs/e011_2019-01-17-17-42-05_0.5739_0.311_oofs.pkl', 'rb') as fin:\n",
    "    oofs = pickle.load(fin)"
   ]
  },
  {
   "cell_type": "code",
   "execution_count": 5,
   "metadata": {},
   "outputs": [
    {
     "data": {
      "text/plain": [
       "[array([   0,    1,    2, ..., 1746, 1747, 1748]),\n",
       " array([1575, 1576, 1577, ..., 3487, 3488, 3489]),\n",
       " array([3372, 3373, 3374, ..., 5267, 5268, 5269]),\n",
       " array([4768, 4769, 4815, ..., 6993, 6994, 6995]),\n",
       " array([6654, 6655, 6656, ..., 8709, 8710, 8711])]"
      ]
     },
     "execution_count": 5,
     "metadata": {},
     "output_type": "execute_result"
    }
   ],
   "source": [
    "oofs[0]"
   ]
  },
  {
   "cell_type": "code",
   "execution_count": 10,
   "metadata": {},
   "outputs": [
    {
     "name": "stdout",
     "output_type": "stream",
     "text": [
      "1743 1743\n",
      "1746 1743\n",
      "1752 1742\n",
      "1749 1742\n",
      "1743 1742\n"
     ]
    }
   ],
   "source": [
    "for labels in oofs[0]:\n",
    "#    print(trn_meta_df.set_index('signal_id').loc[labels].target.sum())\n",
    "    print(trn_meta_df.set_index('signal_id').loc[labels].id_measurement.nunique() * 3, trn_meta_df.set_index('signal_id').loc[labels].reset_index().signal_id.nunique())"
   ]
  },
  {
   "cell_type": "code",
   "execution_count": null,
   "metadata": {},
   "outputs": [],
   "source": []
  },
  {
   "cell_type": "code",
   "execution_count": null,
   "metadata": {},
   "outputs": [],
   "source": []
  }
 ],
 "metadata": {
  "kernelspec": {
   "display_name": "Python 3",
   "language": "python",
   "name": "python3"
  },
  "language_info": {
   "codemirror_mode": {
    "name": "ipython",
    "version": 3
   },
   "file_extension": ".py",
   "mimetype": "text/x-python",
   "name": "python",
   "nbconvert_exporter": "python",
   "pygments_lexer": "ipython3",
   "version": "3.7.1"
  }
 },
 "nbformat": 4,
 "nbformat_minor": 2
}
